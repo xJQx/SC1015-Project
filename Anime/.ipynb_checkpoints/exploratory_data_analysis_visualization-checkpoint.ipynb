{
 "cells": [
  {
   "cell_type": "markdown",
   "id": "7b77ed19",
   "metadata": {},
   "source": [
    "# Exploratory Data Analysis and Visualization\n",
    "\n",
    "---\n",
    "\n",
    "### Essential Libraries\n",
    "\n",
    "Let us begin by importing the essential Python Libraries.\n",
    "\n",
    "> NumPy : Library for Numeric Computations in Python  \n",
    "> Pandas : Library for Data Acquisition and Preparation  \n",
    "> Matplotlib : Low-level library for Data Visualization  \n",
    "> Seaborn : Higher-level library for Data Visualization  "
   ]
  },
  {
   "cell_type": "code",
   "execution_count": 1,
   "id": "66b253df",
   "metadata": {},
   "outputs": [],
   "source": [
    "# Basic Libraries\n",
    "import numpy as np\n",
    "import pandas as pd\n",
    "import seaborn as sb\n",
    "import matplotlib.pyplot as plt # we only need pyplot\n",
    "sb.set() # set the default Seaborn style for graphics"
   ]
  },
  {
   "cell_type": "code",
   "execution_count": 2,
   "id": "31fc918d",
   "metadata": {},
   "outputs": [],
   "source": [
    "# !pip install ipynb"
   ]
  },
  {
   "cell_type": "markdown",
   "id": "de145940",
   "metadata": {},
   "source": [
    "---\n",
    "\n",
    "## 1. Exploring `anime.csv` dataset [2000 to 2021 animes]\n",
    "\n",
    "\n"
   ]
  },
  {
   "cell_type": "code",
   "execution_count": 3,
   "id": "04f0d740",
   "metadata": {},
   "outputs": [
    {
     "data": {
      "text/html": [
       "<div>\n",
       "<style scoped>\n",
       "    .dataframe tbody tr th:only-of-type {\n",
       "        vertical-align: middle;\n",
       "    }\n",
       "\n",
       "    .dataframe tbody tr th {\n",
       "        vertical-align: top;\n",
       "    }\n",
       "\n",
       "    .dataframe thead th {\n",
       "        text-align: right;\n",
       "    }\n",
       "</style>\n",
       "<table border=\"1\" class=\"dataframe\">\n",
       "  <thead>\n",
       "    <tr style=\"text-align: right;\">\n",
       "      <th></th>\n",
       "      <th>id</th>\n",
       "      <th>title</th>\n",
       "      <th>start_date</th>\n",
       "      <th>end_date</th>\n",
       "      <th>synopsis</th>\n",
       "      <th>mean</th>\n",
       "      <th>rank</th>\n",
       "      <th>popularity</th>\n",
       "      <th>num_list_users</th>\n",
       "      <th>num_scoring_users</th>\n",
       "      <th>...</th>\n",
       "      <th>start_season_year</th>\n",
       "      <th>start_season_season</th>\n",
       "      <th>broadcast_day_of_the_week</th>\n",
       "      <th>broadcast_start_time</th>\n",
       "      <th>statistics_watching</th>\n",
       "      <th>statistics_completed</th>\n",
       "      <th>statistics_on_hold</th>\n",
       "      <th>statistics_dropped</th>\n",
       "      <th>statistics_plan_to_watch</th>\n",
       "      <th>statistics_num_list_users</th>\n",
       "    </tr>\n",
       "  </thead>\n",
       "  <tbody>\n",
       "    <tr>\n",
       "      <th>0</th>\n",
       "      <td>95</td>\n",
       "      <td>Turn A Gundam</td>\n",
       "      <td>1999-04-09</td>\n",
       "      <td>2000-04-14</td>\n",
       "      <td>It is the Correct Century, two millennia after...</td>\n",
       "      <td>7.71</td>\n",
       "      <td>1049</td>\n",
       "      <td>2892</td>\n",
       "      <td>40743</td>\n",
       "      <td>13338</td>\n",
       "      <td>...</td>\n",
       "      <td>1999.0</td>\n",
       "      <td>spring</td>\n",
       "      <td>friday</td>\n",
       "      <td>17:00</td>\n",
       "      <td>2735.0</td>\n",
       "      <td>16661.0</td>\n",
       "      <td>2538.0</td>\n",
       "      <td>1597.0</td>\n",
       "      <td>17292.0</td>\n",
       "      <td>40823.0</td>\n",
       "    </tr>\n",
       "    <tr>\n",
       "      <th>1</th>\n",
       "      <td>3665</td>\n",
       "      <td>Ginga Eiyuu Densetsu Gaiden (1999)</td>\n",
       "      <td>1999-12-24</td>\n",
       "      <td>2000-07-21</td>\n",
       "      <td>Ginga Eiyuu Densetsu Gaiden (1999) is the seco...</td>\n",
       "      <td>8.07</td>\n",
       "      <td>472</td>\n",
       "      <td>4347</td>\n",
       "      <td>17849</td>\n",
       "      <td>6478</td>\n",
       "      <td>...</td>\n",
       "      <td>1999.0</td>\n",
       "      <td>fall</td>\n",
       "      <td>NIL</td>\n",
       "      <td>NIL</td>\n",
       "      <td>814.0</td>\n",
       "      <td>8080.0</td>\n",
       "      <td>638.0</td>\n",
       "      <td>293.0</td>\n",
       "      <td>8048.0</td>\n",
       "      <td>17873.0</td>\n",
       "    </tr>\n",
       "    <tr>\n",
       "      <th>2</th>\n",
       "      <td>2471</td>\n",
       "      <td>Doraemon (1979)</td>\n",
       "      <td>1979-04-02</td>\n",
       "      <td>2005-03-18</td>\n",
       "      <td>Nobita Nobi is a normal fourth grade student. ...</td>\n",
       "      <td>7.74</td>\n",
       "      <td>976</td>\n",
       "      <td>2553</td>\n",
       "      <td>51255</td>\n",
       "      <td>23826</td>\n",
       "      <td>...</td>\n",
       "      <td>1979.0</td>\n",
       "      <td>spring</td>\n",
       "      <td>NIL</td>\n",
       "      <td>NIL</td>\n",
       "      <td>4637.0</td>\n",
       "      <td>29125.0</td>\n",
       "      <td>4569.0</td>\n",
       "      <td>7816.0</td>\n",
       "      <td>5227.0</td>\n",
       "      <td>51374.0</td>\n",
       "    </tr>\n",
       "    <tr>\n",
       "      <th>3</th>\n",
       "      <td>21</td>\n",
       "      <td>One Piece</td>\n",
       "      <td>1999-10-20</td>\n",
       "      <td>airing</td>\n",
       "      <td>Gol D. Roger was known as the \"Pirate King,\" t...</td>\n",
       "      <td>8.63</td>\n",
       "      <td>66</td>\n",
       "      <td>26</td>\n",
       "      <td>1812581</td>\n",
       "      <td>1020274</td>\n",
       "      <td>...</td>\n",
       "      <td>1999.0</td>\n",
       "      <td>fall</td>\n",
       "      <td>sunday</td>\n",
       "      <td>09:30</td>\n",
       "      <td>1227452.0</td>\n",
       "      <td>0.0</td>\n",
       "      <td>234652.0</td>\n",
       "      <td>161273.0</td>\n",
       "      <td>189153.0</td>\n",
       "      <td>1812530.0</td>\n",
       "    </tr>\n",
       "    <tr>\n",
       "      <th>4</th>\n",
       "      <td>2397</td>\n",
       "      <td>Digimon Adventure: Bokura no War Game!</td>\n",
       "      <td>2000-03-04</td>\n",
       "      <td>2000-03-04</td>\n",
       "      <td>This movie takes place after the Adventure ser...</td>\n",
       "      <td>7.77</td>\n",
       "      <td>924</td>\n",
       "      <td>2135</td>\n",
       "      <td>70125</td>\n",
       "      <td>43599</td>\n",
       "      <td>...</td>\n",
       "      <td>2000.0</td>\n",
       "      <td>winter</td>\n",
       "      <td>NIL</td>\n",
       "      <td>NIL</td>\n",
       "      <td>653.0</td>\n",
       "      <td>63538.0</td>\n",
       "      <td>285.0</td>\n",
       "      <td>314.0</td>\n",
       "      <td>5432.0</td>\n",
       "      <td>70222.0</td>\n",
       "    </tr>\n",
       "  </tbody>\n",
       "</table>\n",
       "<p>5 rows × 29 columns</p>\n",
       "</div>"
      ],
      "text/plain": [
       "     id                                   title  start_date    end_date  \\\n",
       "0    95                           Turn A Gundam  1999-04-09  2000-04-14   \n",
       "1  3665      Ginga Eiyuu Densetsu Gaiden (1999)  1999-12-24  2000-07-21   \n",
       "2  2471                         Doraemon (1979)  1979-04-02  2005-03-18   \n",
       "3    21                               One Piece  1999-10-20      airing   \n",
       "4  2397  Digimon Adventure: Bokura no War Game!  2000-03-04  2000-03-04   \n",
       "\n",
       "                                            synopsis  mean  rank  popularity  \\\n",
       "0  It is the Correct Century, two millennia after...  7.71  1049        2892   \n",
       "1  Ginga Eiyuu Densetsu Gaiden (1999) is the seco...  8.07   472        4347   \n",
       "2  Nobita Nobi is a normal fourth grade student. ...  7.74   976        2553   \n",
       "3  Gol D. Roger was known as the \"Pirate King,\" t...  8.63    66          26   \n",
       "4  This movie takes place after the Adventure ser...  7.77   924        2135   \n",
       "\n",
       "   num_list_users  num_scoring_users  ... start_season_year  \\\n",
       "0           40743              13338  ...            1999.0   \n",
       "1           17849               6478  ...            1999.0   \n",
       "2           51255              23826  ...            1979.0   \n",
       "3         1812581            1020274  ...            1999.0   \n",
       "4           70125              43599  ...            2000.0   \n",
       "\n",
       "  start_season_season broadcast_day_of_the_week broadcast_start_time  \\\n",
       "0              spring                    friday                17:00   \n",
       "1                fall                       NIL                  NIL   \n",
       "2              spring                       NIL                  NIL   \n",
       "3                fall                    sunday                09:30   \n",
       "4              winter                       NIL                  NIL   \n",
       "\n",
       "   statistics_watching statistics_completed  statistics_on_hold  \\\n",
       "0               2735.0              16661.0              2538.0   \n",
       "1                814.0               8080.0               638.0   \n",
       "2               4637.0              29125.0              4569.0   \n",
       "3            1227452.0                  0.0            234652.0   \n",
       "4                653.0              63538.0               285.0   \n",
       "\n",
       "  statistics_dropped statistics_plan_to_watch  statistics_num_list_users  \n",
       "0             1597.0                  17292.0                    40823.0  \n",
       "1              293.0                   8048.0                    17873.0  \n",
       "2             7816.0                   5227.0                    51374.0  \n",
       "3           161273.0                 189153.0                  1812530.0  \n",
       "4              314.0                   5432.0                    70222.0  \n",
       "\n",
       "[5 rows x 29 columns]"
      ]
     },
     "execution_count": 3,
     "metadata": {},
     "output_type": "execute_result"
    }
   ],
   "source": [
    "anime_df = pd.read_csv('dataset/anime_cleaned.csv')\n",
    "anime_df.head()"
   ]
  },
  {
   "cell_type": "markdown",
   "id": "4842e6d5",
   "metadata": {},
   "source": [
    "### Features available to explore:"
   ]
  },
  {
   "cell_type": "code",
   "execution_count": 4,
   "id": "2a5ba18b",
   "metadata": {},
   "outputs": [
    {
     "name": "stdout",
     "output_type": "stream",
     "text": [
      "Features:\n",
      "---------\n",
      "id\n",
      "title\n",
      "start_date\n",
      "end_date\n",
      "synopsis\n",
      "mean\n",
      "rank\n",
      "popularity\n",
      "num_list_users\n",
      "num_scoring_users\n",
      "nsfw\n",
      "media_type\n",
      "status\n",
      "genres\n",
      "num_episodes\n",
      "source\n",
      "average_episode_duration\n",
      "rating\n",
      "studios\n",
      "start_season_year\n",
      "start_season_season\n",
      "broadcast_day_of_the_week\n",
      "broadcast_start_time\n",
      "statistics_watching\n",
      "statistics_completed\n",
      "statistics_on_hold\n",
      "statistics_dropped\n",
      "statistics_plan_to_watch\n",
      "statistics_num_list_users\n"
     ]
    }
   ],
   "source": [
    "print(\"Features:\")\n",
    "print(\"---------\")\n",
    "\n",
    "for header in anime_df.columns:\n",
    "    print(header)"
   ]
  },
  {
   "cell_type": "markdown",
   "id": "e16ec94b",
   "metadata": {},
   "source": [
    "### Convert `studios` and `genres` features to json for exploration:"
   ]
  },
  {
   "cell_type": "code",
   "execution_count": 11,
   "id": "5c07a325",
   "metadata": {},
   "outputs": [
    {
     "name": "stdout",
     "output_type": "stream",
     "text": [
      "json_studios(), json_genres() imported from data_cleaning_preprocessing.ipynb\n"
     ]
    }
   ],
   "source": [
    "from ipynb.fs.full.data_cleaning_preprocessing import json_studios, json_genres;\n",
    "print(\"json_studios(), json_genres() imported from data_cleaning_preprocessing.ipynb\")"
   ]
  },
  {
   "cell_type": "code",
   "execution_count": 6,
   "id": "fa402ec3",
   "metadata": {},
   "outputs": [],
   "source": [
    "# convert to json\n",
    "anime_df = json_studios(anime_df)\n",
    "anime_df = json_genres(anime_df)"
   ]
  },
  {
   "cell_type": "markdown",
   "id": "4b00f132",
   "metadata": {},
   "source": [
    "### Explore `genres` feature"
   ]
  },
  {
   "cell_type": "code",
   "execution_count": 14,
   "id": "a867d04f",
   "metadata": {},
   "outputs": [],
   "source": [
    "from collections import defaultdict"
   ]
  },
  {
   "cell_type": "code",
   "execution_count": 48,
   "id": "82ad5396",
   "metadata": {},
   "outputs": [
    {
     "name": "stdout",
     "output_type": "stream",
     "text": [
      "Action: 2744\n",
      "Adventure: 2278\n",
      "Drama: 1620\n",
      "Mecha: 623\n",
      "Military: 381\n",
      "Romance: 1125\n",
      "Sci-Fi: 1458\n",
      "Space: 230\n",
      "Comedy: 4571\n",
      "Fantasy: 2311\n",
      "Kids: 1253\n",
      "Shounen: 2036\n",
      "Super Power: 606\n",
      "Police: 236\n",
      "Slice of Life: 1377\n",
      "School: 1197\n",
      "Shoujo: 637\n",
      "Ecchi: 334\n",
      "Seinen: 626\n",
      "Mystery: 642\n",
      "Demons: 351\n",
      "Horror: 191\n",
      "Supernatural: 1075\n",
      "Psychological: 255\n",
      "Parody: 339\n",
      "Cars: 69\n",
      "Historical: 583\n",
      "Martial Arts: 295\n",
      "Samurai: 128\n",
      "Avant Garde: 74\n",
      "Vampire: 93\n",
      "Suspense: 118\n",
      "Music: 821\n",
      "Game: 377\n",
      "Harem: 157\n",
      "Gourmet: 100\n",
      "Sports: 465\n",
      "Boys Love: 41\n",
      "Girls Love: 39\n",
      "Award Winning: 3\n",
      "no_genre: 8\n",
      "Josei: 70\n"
     ]
    }
   ],
   "source": [
    "genres_dict = defaultdict(int)\n",
    "\n",
    "# getting the genres count from 2000 to 2021\n",
    "for anime in anime_df['genres']:\n",
    "    for genre in anime:\n",
    "        genres_dict[genre['name']] += 1\n",
    "               \n",
    "# printing out the genre counts\n",
    "for genre, count in genres_dict.items():\n",
    "    print(f'{genre}: {count}')"
   ]
  },
  {
   "cell_type": "markdown",
   "id": "815b7bd5",
   "metadata": {},
   "source": [
    "### Plot genre counts"
   ]
  },
  {
   "cell_type": "code",
   "execution_count": 90,
   "id": "4520d481",
   "metadata": {
    "scrolled": true
   },
   "outputs": [
    {
     "data": {
      "image/png": "[encoded data removed]",
      "text/plain": [
       "<Figure size 1080x1440 with 1 Axes>"
      ]
     },
     "metadata": {},
     "output_type": "display_data"
    }
   ],
   "source": [
    "# Plot Genre Counts\n",
    "\n",
    "# convert dict to dataframe\n",
    "genre_df = pd.DataFrame(genres_dict.items())\n",
    "\n",
    "# rename column names\n",
    "genre_df.rename(columns={0: 'genre', 1: 'count'}, inplace=True)\n",
    "\n",
    "# Reorder genre dataframe in descending order\n",
    "genre_df = genre_df.sort_values(['count'], ascending=False).reset_index(drop=True)\n",
    "\n",
    "\n",
    "# Set the figure size\n",
    "plt.figure(figsize=(15, 20))\n",
    "\n",
    "# Make a barplot\n",
    "sb.barplot(\n",
    "    x=\"count\", \n",
    "    y=\"genre\", \n",
    "    data=genre_df, \n",
    "    estimator=sum, \n",
    "    ci=None, \n",
    "    color='#69b3a2'\n",
    ").set(title=\"Genre Counts from 2000 to 2021\");"
   ]
  },
  {
   "cell_type": "markdown",
   "id": "2663f388",
   "metadata": {},
   "source": [
    "- It can be seen that `Comedy` is the genres that most anime have\n",
    "- The top 5 genres commonly seen  are `Comedy`,  `Action`, `Fantasy`, `Adventure`, and `Shounen`\n",
    "\n",
    "**Analysis:**\n",
    "- It seems that animes are generally produced to produce some sort of commedic effect, with a sense of fantasy and adventure filled with action packed scenes.\n",
    "- Thus, it appears that animes are shows that allow people to have a fun time escaping into another world"
   ]
  },
  {
   "cell_type": "code",
   "execution_count": null,
   "id": "5dddef80",
   "metadata": {},
   "outputs": [],
   "source": []
  },
  {
   "cell_type": "code",
   "execution_count": null,
   "id": "c5eb3df5",
   "metadata": {},
   "outputs": [],
   "source": []
  }
 ],
 "metadata": {
  "kernelspec": {
   "display_name": "Python 3",
   "language": "python",
   "name": "python3"
  },
  "language_info": {
   "codemirror_mode": {
    "name": "ipython",
    "version": 3
   },
   "file_extension": ".py",
   "mimetype": "text/x-python",
   "name": "python",
   "nbconvert_exporter": "python",
   "pygments_lexer": "ipython3",
   "version": "3.8.8"
  }
 },
 "nbformat": 4,
 "nbformat_minor": 5
}
