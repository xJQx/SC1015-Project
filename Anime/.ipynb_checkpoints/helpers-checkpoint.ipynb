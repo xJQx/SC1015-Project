{
 "cells": [
  {
   "cell_type": "code",
   "execution_count": 2,
   "id": "67c0390d",
   "metadata": {},
   "outputs": [],
   "source": [
    "# Basic Libraries\n",
    "import numpy as np\n",
    "import pandas as pd\n",
    "import seaborn as sb\n",
    "import matplotlib.pyplot as plt # we only need pyplot\n",
    "sb.set() # set the default Seaborn style for graphics\n",
    "\n",
    "# Import library for json manipulation\n",
    "import json"
   ]
  },
  {
   "cell_type": "code",
   "execution_count": 3,
   "id": "b8492143",
   "metadata": {},
   "outputs": [],
   "source": [
    "# Convert studios into json format\n",
    "def json_studios(data_clean):\n",
    "    #import json\n",
    "    # Convert studios string to json\n",
    "    for row in range(0, len(data_clean)):\n",
    "        try:\n",
    "            studios = (json.loads(data_clean['studios'][row].replace(\"'\", \"\\\"\")))\n",
    "        except:\n",
    "            studios = (json.loads(data_clean['studios'][row].replace(\"'\", \"\\\"\").replace(\"\\\"s\", '\\'s').replace('N\\\"', \"N\\'\")))\n",
    "\n",
    "        data_clean['studios'][row] = studios\n",
    "    \n",
    "    return data_clean"
   ]
  },
  {
   "cell_type": "code",
   "execution_count": 4,
   "id": "d278f1fb",
   "metadata": {},
   "outputs": [],
   "source": [
    "# Convert genres into json format\n",
    "def json_genres(data_clean):\n",
    "    #import json\n",
    "    #Convert genres string to json\n",
    "    for row in range(0, len(data_clean)):\n",
    "        genres = json.loads(data_clean['genres'][row].replace(\"'\", \"\\\"\"))\n",
    "\n",
    "        data_clean['genres'][row] = genres\n",
    "        \n",
    "    return data_clean"
   ]
  },
  {
   "cell_type": "code",
   "execution_count": null,
   "id": "37acba64",
   "metadata": {},
   "outputs": [],
   "source": []
  },
  {
   "cell_type": "code",
   "execution_count": null,
   "id": "644cbdb2",
   "metadata": {},
   "outputs": [],
   "source": []
  }
 ],
 "metadata": {
  "kernelspec": {
   "display_name": "Python 3",
   "language": "python",
   "name": "python3"
  },
  "language_info": {
   "codemirror_mode": {
    "name": "ipython",
    "version": 3
   },
   "file_extension": ".py",
   "mimetype": "text/x-python",
   "name": "python",
   "nbconvert_exporter": "python",
   "pygments_lexer": "ipython3",
   "version": "3.8.8"
  }
 },
 "nbformat": 4,
 "nbformat_minor": 5
}
